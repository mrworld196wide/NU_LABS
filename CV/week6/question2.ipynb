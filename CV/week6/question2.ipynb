{
  "nbformat": 4,
  "nbformat_minor": 0,
  "metadata": {
    "colab": {
      "provenance": []
    },
    "kernelspec": {
      "name": "python3",
      "display_name": "Python 3"
    },
    "language_info": {
      "name": "python"
    }
  },
  "cells": [
    {
      "cell_type": "code",
      "execution_count": null,
      "metadata": {
        "id": "h2k85o2ERYn6"
      },
      "outputs": [],
      "source": [
        "import cv2\n",
        "import numpy as np\n",
        "\n",
        "# Read the input image\n",
        "img = cv2.imread(\"input_image.jpg\")\n",
        "\n",
        "# Define the source and destination points for perspective transformation\n",
        "src_pts = np.float32([[0, 0], [img.shape[1], 0], [0, img.shape[0]], [img.shape[1], img.shape[0]]])\n",
        "dst_pts = np.float32([[100, 100], [img.shape[1] - 100, 100], [100, img.shape[0] - 100], [img.shape[1] - 100, img.shape[0] - 100]])\n",
        "\n",
        "# Compute the perspective transform matrix\n",
        "M = cv2.getPerspectiveTransform(src_pts, dst_pts)\n",
        "\n",
        "# Apply the perspective transformation to the input image\n",
        "perspective_img = cv2.warpPerspective(img, M, (img.shape[1], img.shape[0]))\n",
        "\n",
        "# Display the input and output images\n",
        "cv2.imshow(\"Input Image\", img)\n",
        "cv2.imshow(\"Perspective Image\", perspective_img)\n",
        "cv2.waitKey(0)\n",
        "cv2.destroyAllWindows()\n"
      ]
    }
  ]
}