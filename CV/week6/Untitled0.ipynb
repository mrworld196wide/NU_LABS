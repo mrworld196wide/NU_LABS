{
  "nbformat": 4,
  "nbformat_minor": 0,
  "metadata": {
    "colab": {
      "provenance": []
    },
    "kernelspec": {
      "name": "python3",
      "display_name": "Python 3"
    },
    "language_info": {
      "name": "python"
    }
  },
  "cells": [
    {
      "cell_type": "code",
      "execution_count": null,
      "metadata": {
        "id": "h2k85o2ERYn6"
      },
      "outputs": [],
      "source": [
        "from PIL import Image\n",
        "\n",
        "# Open the original image\n",
        "img = Image.open(\"C:\\\\Users\\\\hp\\\\Downloads\\\\shoe.jpg\")\n",
        "\n",
        "# Resize using nearest neighbor interpolation\n",
        "nearest_img = img.resize((500, 500), resample=Image.Resampling.NEAREST)\n",
        "nearest_img.save(\"nearest_image.jpg\")\n",
        "\n",
        "# Resize using bilinear interpolation\n",
        "bilinear_img = img.resize((500, 500), resample=Image.Resampling.BILINEAR)\n",
        "bilinear_img.save(\"bilinear_image.jpg\")\n",
        "\n",
        "# Resize using bicubic interpolation\n",
        "bicubic_img = img.resize((500, 500), resample=Image.Resampling.BICUBIC)\n",
        "bicubic_img.save(\"bicubic_image.jpg\")\n"
      ]
    }
  ]
}